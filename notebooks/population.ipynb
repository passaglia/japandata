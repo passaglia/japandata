{
 "cells": [
  {
   "cell_type": "code",
   "execution_count": 3,
   "id": "8fa38e17-8fb0-459a-bc7a-59010ab46dd0",
   "metadata": {},
   "outputs": [],
   "source": [
    "# !source ../venv/bin/activate && python3 -m pip install -r ../requirements/requirements-viz.txt"
   ]
  },
  {
   "cell_type": "markdown",
   "id": "82e0e3e2-001f-4ebe-af08-346745482199",
   "metadata": {},
   "source": [
    "# Demography with japandata.population"
   ]
  },
  {
   "cell_type": "code",
   "execution_count": 43,
   "id": "dbcb8995-44b8-4f27-b914-2524e7b99fba",
   "metadata": {},
   "outputs": [],
   "source": [
    "import os\n",
    "import matplotlib.pyplot as plt\n",
    "import numpy as np\n",
    "import seaborn as sns\n",
    "import matplotlib\n",
    "import folium\n",
    "import branca.colormap as cm\n",
    "from folium.features import GeoJsonTooltip\n",
    "\n",
    "PLOT_FOLDER = os.path.join(os.getcwd(), \"population/\")\n",
    "os.makedirs(PLOT_FOLDER, exist_ok=True)\n",
    "output_filetypes = [\"png\"]"
   ]
  },
  {
   "cell_type": "markdown",
   "id": "16c273eb-7c9b-4c35-b42a-abcb478f902d",
   "metadata": {
    "tags": []
   },
   "source": [
    "# National demographics"
   ]
  },
  {
   "cell_type": "markdown",
   "id": "48dbdade-e614-4fe0-9271-0da1c2609fb3",
   "metadata": {
    "tags": []
   },
   "source": [
    "## Basic demographics with japan_pop"
   ]
  },
  {
   "cell_type": "code",
   "execution_count": 21,
   "id": "ab10cf5d-7599-45de-bea2-17cc1ecc2a93",
   "metadata": {},
   "outputs": [],
   "source": [
    "from japandata.population import japan_pop"
   ]
  },
  {
   "cell_type": "markdown",
   "id": "2684a54b-64e3-46ec-8eec-7e928be8bed9",
   "metadata": {},
   "source": [
    "japan_pop begins in 1967 with the number of `Japanese` `men`, `women`, and `households`."
   ]
  },
  {
   "cell_type": "code",
   "execution_count": 22,
   "id": "3302529a-ea72-46e9-80e7-4e09a121bd40",
   "metadata": {},
   "outputs": [
    {
     "data": {
      "text/html": [
       "<div>\n",
       "<style scoped>\n",
       "    .dataframe tbody tr th:only-of-type {\n",
       "        vertical-align: middle;\n",
       "    }\n",
       "\n",
       "    .dataframe tbody tr th {\n",
       "        vertical-align: top;\n",
       "    }\n",
       "\n",
       "    .dataframe thead th {\n",
       "        text-align: right;\n",
       "    }\n",
       "</style>\n",
       "<table border=\"1\" class=\"dataframe\">\n",
       "  <thead>\n",
       "    <tr style=\"text-align: right;\">\n",
       "      <th></th>\n",
       "      <th>year</th>\n",
       "      <th>nationality</th>\n",
       "      <th>men</th>\n",
       "      <th>women</th>\n",
       "      <th>total-pop</th>\n",
       "      <th>households</th>\n",
       "    </tr>\n",
       "  </thead>\n",
       "  <tbody>\n",
       "    <tr>\n",
       "      <th>0</th>\n",
       "      <td>1967</td>\n",
       "      <td>japanese</td>\n",
       "      <td>50361080</td>\n",
       "      <td>51626940</td>\n",
       "      <td>101988020</td>\n",
       "      <td>27115293</td>\n",
       "    </tr>\n",
       "  </tbody>\n",
       "</table>\n",
       "</div>"
      ],
      "text/plain": [
       "   year nationality       men     women  total-pop  households\n",
       "0  1967    japanese  50361080  51626940  101988020    27115293"
      ]
     },
     "execution_count": 22,
     "metadata": {},
     "output_type": "execute_result"
    }
   ],
   "source": [
    "japan_pop[japan_pop[\"year\"] == 1967].dropna(axis=1, how=\"all\")"
   ]
  },
  {
   "cell_type": "code",
   "execution_count": 23,
   "id": "ded79ae4-4257-4cb3-9743-6e0d07a0fdae",
   "metadata": {},
   "outputs": [
    {
     "data": {
      "image/png": "[encoded data removed]",
      "text/plain": [
       "<Figure size 640x480 with 1 Axes>"
      ]
     },
     "metadata": {},
     "output_type": "display_data"
    }
   ],
   "source": [
    "fig, ax = plt.subplots()\n",
    "ax.plot(\n",
    "    japan_pop.loc[japan_pop[\"nationality\"] == \"japanese\", \"year\"],\n",
    "    japan_pop.loc[japan_pop[\"nationality\"] == \"japanese\", \"men\"] / 10**6,\n",
    "    label=\"jp men\",\n",
    ")\n",
    "ax.plot(\n",
    "    japan_pop.loc[japan_pop[\"nationality\"] == \"japanese\", \"year\"],\n",
    "    japan_pop.loc[japan_pop[\"nationality\"] == \"japanese\", \"women\"] / 10**6,\n",
    "    label=\"jp women\",\n",
    ")\n",
    "for suffix in output_filetypes:\n",
    "    fig.savefig(PLOT_FOLDER + \"total_pop.\" + suffix, transparent=True)"
   ]
  },
  {
   "cell_type": "markdown",
   "id": "8b06ae28-717d-4a06-b0f8-d83c3a7a7423",
   "metadata": {},
   "source": [
    "In 1979 it begins to cover birth and death rates (`born-minus-died`) and all other population changes (`social-in-minus-social-out`)"
   ]
  },
  {
   "cell_type": "code",
   "execution_count": 24,
   "id": "58c48a7a-74ad-4c39-9fa6-54902a4d915c",
   "metadata": {},
   "outputs": [
    {
     "data": {
      "text/html": [
       "<div>\n",
       "<style scoped>\n",
       "    .dataframe tbody tr th:only-of-type {\n",
       "        vertical-align: middle;\n",
       "    }\n",
       "\n",
       "    .dataframe tbody tr th {\n",
       "        vertical-align: top;\n",
       "    }\n",
       "\n",
       "    .dataframe thead th {\n",
       "        text-align: right;\n",
       "    }\n",
       "</style>\n",
       "<table border=\"1\" class=\"dataframe\">\n",
       "  <thead>\n",
       "    <tr style=\"text-align: right;\">\n",
       "      <th></th>\n",
       "      <th>year</th>\n",
       "      <th>nationality</th>\n",
       "      <th>men</th>\n",
       "      <th>women</th>\n",
       "      <th>total-pop</th>\n",
       "      <th>households</th>\n",
       "      <th>births</th>\n",
       "      <th>deaths</th>\n",
       "      <th>births-minus-deaths</th>\n",
       "      <th>social-in-minus-social-out</th>\n",
       "    </tr>\n",
       "  </thead>\n",
       "  <tbody>\n",
       "    <tr>\n",
       "      <th>12</th>\n",
       "      <td>1979</td>\n",
       "      <td>japanese</td>\n",
       "      <td>57323504</td>\n",
       "      <td>58871394</td>\n",
       "      <td>116194898</td>\n",
       "      <td>35830857</td>\n",
       "      <td>1624659.0</td>\n",
       "      <td>707507.0</td>\n",
       "      <td>917152.0</td>\n",
       "      <td>-9029.0</td>\n",
       "    </tr>\n",
       "  </tbody>\n",
       "</table>\n",
       "</div>"
      ],
      "text/plain": [
       "    year nationality       men     women  total-pop  households     births  \\\n",
       "12  1979    japanese  57323504  58871394  116194898    35830857  1624659.0   \n",
       "\n",
       "      deaths  births-minus-deaths  social-in-minus-social-out  \n",
       "12  707507.0             917152.0                     -9029.0  "
      ]
     },
     "execution_count": 24,
     "metadata": {},
     "output_type": "execute_result"
    }
   ],
   "source": [
    "japan_pop[japan_pop[\"year\"] == 1979].dropna(axis=1, how=\"all\")"
   ]
  },
  {
   "cell_type": "code",
   "execution_count": 25,
   "id": "ffd452de-384a-4ac1-a92c-2bc17b7841bd",
   "metadata": {},
   "outputs": [
    {
     "data": {
      "image/png": "[encoded data removed]",
      "text/plain": [
       "<Figure size 640x480 with 1 Axes>"
      ]
     },
     "metadata": {},
     "output_type": "display_data"
    }
   ],
   "source": [
    "fig, ax = plt.subplots()\n",
    "ax.plot(\n",
    "    japan_pop.loc[japan_pop[\"nationality\"] == \"japanese\", \"year\"],\n",
    "    japan_pop.loc[japan_pop[\"nationality\"] == \"japanese\", \"births-minus-deaths\"] / 10**6,\n",
    "    label=\"birth minus death\",\n",
    ")\n",
    "ax.plot(\n",
    "    japan_pop.loc[japan_pop[\"nationality\"] == \"japanese\", \"year\"],\n",
    "    japan_pop.loc[japan_pop[\"nationality\"] == \"japanese\", \"social-in-minus-social-out\"]\n",
    "    / 10**6,\n",
    "    label=\"social-in-minus-social-out\",\n",
    ")\n",
    "ax.axhline(0)\n",
    "ax.axvline(2006)\n",
    "for suffix in output_filetypes:\n",
    "    fig.savefig(PLOT_FOLDER + \"total_pop.\" + suffix, transparent=True)"
   ]
  },
  {
   "cell_type": "markdown",
   "id": "0046456a-317c-4bc3-8555-e0958244737d",
   "metadata": {},
   "source": [
    "In 2012 data about `non-japanese` residents becomes available"
   ]
  },
  {
   "cell_type": "code",
   "execution_count": 26,
   "id": "ba844ec2-1911-48b9-9f4b-dae80bbe73c3",
   "metadata": {},
   "outputs": [
    {
     "data": {
      "text/html": [
       "<div>\n",
       "<style scoped>\n",
       "    .dataframe tbody tr th:only-of-type {\n",
       "        vertical-align: middle;\n",
       "    }\n",
       "\n",
       "    .dataframe tbody tr th {\n",
       "        vertical-align: top;\n",
       "    }\n",
       "\n",
       "    .dataframe thead th {\n",
       "        text-align: right;\n",
       "    }\n",
       "</style>\n",
       "<table border=\"1\" class=\"dataframe\">\n",
       "  <thead>\n",
       "    <tr style=\"text-align: right;\">\n",
       "      <th></th>\n",
       "      <th>year</th>\n",
       "      <th>nationality</th>\n",
       "      <th>men</th>\n",
       "      <th>women</th>\n",
       "      <th>total-pop</th>\n",
       "      <th>households</th>\n",
       "      <th>births</th>\n",
       "      <th>deaths</th>\n",
       "      <th>births-minus-deaths</th>\n",
       "      <th>social-in-minus-social-out</th>\n",
       "      <th>households-singlecitizenship</th>\n",
       "      <th>households-multicitizenship</th>\n",
       "    </tr>\n",
       "  </thead>\n",
       "  <tbody>\n",
       "    <tr>\n",
       "      <th>45</th>\n",
       "      <td>2012</td>\n",
       "      <td>all</td>\n",
       "      <td>62588804</td>\n",
       "      <td>65785075</td>\n",
       "      <td>128373879</td>\n",
       "      <td>55577563</td>\n",
       "      <td>1039574.0</td>\n",
       "      <td>1260777.0</td>\n",
       "      <td>-221203.0</td>\n",
       "      <td>1935399.0</td>\n",
       "      <td>NaN</td>\n",
       "      <td>NaN</td>\n",
       "    </tr>\n",
       "    <tr>\n",
       "      <th>55</th>\n",
       "      <td>2012</td>\n",
       "      <td>japanese</td>\n",
       "      <td>61694085</td>\n",
       "      <td>64699594</td>\n",
       "      <td>126393679</td>\n",
       "      <td>54594744</td>\n",
       "      <td>1029433.0</td>\n",
       "      <td>1255551.0</td>\n",
       "      <td>-226118.0</td>\n",
       "      <td>-39886.0</td>\n",
       "      <td>54166316.0</td>\n",
       "      <td>428428.0</td>\n",
       "    </tr>\n",
       "    <tr>\n",
       "      <th>65</th>\n",
       "      <td>2012</td>\n",
       "      <td>non-japanese</td>\n",
       "      <td>894719</td>\n",
       "      <td>1085481</td>\n",
       "      <td>1980200</td>\n",
       "      <td>982819</td>\n",
       "      <td>10141.0</td>\n",
       "      <td>5226.0</td>\n",
       "      <td>4915.0</td>\n",
       "      <td>1975285.0</td>\n",
       "      <td>NaN</td>\n",
       "      <td>NaN</td>\n",
       "    </tr>\n",
       "  </tbody>\n",
       "</table>\n",
       "</div>"
      ],
      "text/plain": [
       "    year   nationality       men     women  total-pop  households     births  \\\n",
       "45  2012           all  62588804  65785075  128373879    55577563  1039574.0   \n",
       "55  2012      japanese  61694085  64699594  126393679    54594744  1029433.0   \n",
       "65  2012  non-japanese    894719   1085481    1980200      982819    10141.0   \n",
       "\n",
       "       deaths  births-minus-deaths  social-in-minus-social-out  \\\n",
       "45  1260777.0            -221203.0                   1935399.0   \n",
       "55  1255551.0            -226118.0                    -39886.0   \n",
       "65     5226.0               4915.0                   1975285.0   \n",
       "\n",
       "    households-singlecitizenship  households-multicitizenship  \n",
       "45                           NaN                          NaN  \n",
       "55                    54166316.0                     428428.0  \n",
       "65                           NaN                          NaN  "
      ]
     },
     "execution_count": 26,
     "metadata": {},
     "output_type": "execute_result"
    }
   ],
   "source": [
    "japan_pop[japan_pop[\"year\"] == 2012].dropna(axis=1, how=\"all\")"
   ]
  },
  {
   "cell_type": "code",
   "execution_count": 27,
   "id": "19c01ad8-7347-48e7-946d-fae09d5d5007",
   "metadata": {},
   "outputs": [],
   "source": [
    "non_japanese_fraction = (\n",
    "    japan_pop.loc[japan_pop[\"nationality\"] == \"non-japanese\"].set_index(\"year\")[\n",
    "        \"total-pop\"\n",
    "    ]\n",
    "    / japan_pop.loc[japan_pop[\"nationality\"] == \"japanese\"].set_index(\"year\")[\n",
    "        \"total-pop\"\n",
    "    ]\n",
    ").dropna()"
   ]
  },
  {
   "cell_type": "code",
   "execution_count": 28,
   "id": "45806ada-bb3a-48d8-a4aa-4eecd178fdb5",
   "metadata": {},
   "outputs": [
    {
     "data": {
      "image/png": "[encoded data removed]",
      "text/plain": [
       "<Figure size 640x480 with 1 Axes>"
      ]
     },
     "metadata": {},
     "output_type": "display_data"
    }
   ],
   "source": [
    "fig, ax = plt.subplots()\n",
    "ax.plot(\n",
    "    non_japanese_fraction.index,\n",
    "    non_japanese_fraction.values,\n",
    "    label=\"foreign population fraction\",\n",
    ")\n",
    "for suffix in output_filetypes:\n",
    "    fig.savefig(PLOT_FOLDER + \"total_pop.\" + suffix, transparent=True)"
   ]
  },
  {
   "cell_type": "markdown",
   "id": "56de59f8-3f4d-42a3-8a06-3fa17201c2b3",
   "metadata": {
    "tags": []
   },
   "source": [
    "## Age distributions with japan_age"
   ]
  },
  {
   "cell_type": "code",
   "execution_count": 29,
   "id": "2a0359ef-a872-46a8-8314-fe5c7f74de54",
   "metadata": {},
   "outputs": [],
   "source": [
    "from japandata.population import japan_age"
   ]
  },
  {
   "cell_type": "markdown",
   "id": "340ef79d-e049-48d4-a41d-b0c59724f415",
   "metadata": {},
   "source": [
    "japan_age begins in 1993 and provides age distributions for `men` and `women` for Japanese people in Japan."
   ]
  },
  {
   "cell_type": "code",
   "execution_count": 30,
   "id": "77c18e0a-a344-4f50-82ae-9430b82f4ade",
   "metadata": {},
   "outputs": [
    {
     "data": {
      "text/html": [
       "<div>\n",
       "<style scoped>\n",
       "    .dataframe tbody tr th:only-of-type {\n",
       "        vertical-align: middle;\n",
       "    }\n",
       "\n",
       "    .dataframe tbody tr th {\n",
       "        vertical-align: top;\n",
       "    }\n",
       "\n",
       "    .dataframe thead th {\n",
       "        text-align: right;\n",
       "    }\n",
       "</style>\n",
       "<table border=\"1\" class=\"dataframe\">\n",
       "  <thead>\n",
       "    <tr style=\"text-align: right;\">\n",
       "      <th></th>\n",
       "      <th>year</th>\n",
       "      <th>nationality</th>\n",
       "      <th>gender</th>\n",
       "      <th>total-pop</th>\n",
       "      <th>0-4</th>\n",
       "      <th>5-9</th>\n",
       "      <th>10-14</th>\n",
       "      <th>15-19</th>\n",
       "      <th>20-24</th>\n",
       "      <th>25-29</th>\n",
       "      <th>...</th>\n",
       "      <th>40-44</th>\n",
       "      <th>45-49</th>\n",
       "      <th>50-54</th>\n",
       "      <th>55-59</th>\n",
       "      <th>60-64</th>\n",
       "      <th>65-69</th>\n",
       "      <th>70-74</th>\n",
       "      <th>75-79</th>\n",
       "      <th>&gt;79</th>\n",
       "      <th>unknown</th>\n",
       "    </tr>\n",
       "  </thead>\n",
       "  <tbody>\n",
       "    <tr>\n",
       "      <th>0</th>\n",
       "      <td>1993</td>\n",
       "      <td>japanese</td>\n",
       "      <td>total</td>\n",
       "      <td>124322801</td>\n",
       "      <td>5999436</td>\n",
       "      <td>6824744</td>\n",
       "      <td>7661262</td>\n",
       "      <td>8911522</td>\n",
       "      <td>9773743</td>\n",
       "      <td>8542723</td>\n",
       "      <td>...</td>\n",
       "      <td>9855717</td>\n",
       "      <td>9717145</td>\n",
       "      <td>8931630</td>\n",
       "      <td>7902202</td>\n",
       "      <td>7274968</td>\n",
       "      <td>6112329</td>\n",
       "      <td>4383023</td>\n",
       "      <td>3146144</td>\n",
       "      <td>3597831.0</td>\n",
       "      <td>14</td>\n",
       "    </tr>\n",
       "    <tr>\n",
       "      <th>1</th>\n",
       "      <td>1993</td>\n",
       "      <td>japanese</td>\n",
       "      <td>men</td>\n",
       "      <td>61086642</td>\n",
       "      <td>3073971</td>\n",
       "      <td>3495553</td>\n",
       "      <td>3923919</td>\n",
       "      <td>4553643</td>\n",
       "      <td>4991314</td>\n",
       "      <td>4360891</td>\n",
       "      <td>...</td>\n",
       "      <td>4979281</td>\n",
       "      <td>4884561</td>\n",
       "      <td>4435626</td>\n",
       "      <td>3875321</td>\n",
       "      <td>3504273</td>\n",
       "      <td>2829758</td>\n",
       "      <td>1754580</td>\n",
       "      <td>1222594</td>\n",
       "      <td>1227294.0</td>\n",
       "      <td>7</td>\n",
       "    </tr>\n",
       "    <tr>\n",
       "      <th>2</th>\n",
       "      <td>1993</td>\n",
       "      <td>japanese</td>\n",
       "      <td>women</td>\n",
       "      <td>63236159</td>\n",
       "      <td>2925465</td>\n",
       "      <td>3329191</td>\n",
       "      <td>3737343</td>\n",
       "      <td>4357879</td>\n",
       "      <td>4782429</td>\n",
       "      <td>4181832</td>\n",
       "      <td>...</td>\n",
       "      <td>4876436</td>\n",
       "      <td>4832584</td>\n",
       "      <td>4496004</td>\n",
       "      <td>4026881</td>\n",
       "      <td>3770695</td>\n",
       "      <td>3282571</td>\n",
       "      <td>2628443</td>\n",
       "      <td>1923550</td>\n",
       "      <td>2370537.0</td>\n",
       "      <td>7</td>\n",
       "    </tr>\n",
       "  </tbody>\n",
       "</table>\n",
       "<p>3 rows × 22 columns</p>\n",
       "</div>"
      ],
      "text/plain": [
       "   year nationality gender  total-pop      0-4      5-9    10-14    15-19  \\\n",
       "0  1993    japanese  total  124322801  5999436  6824744  7661262  8911522   \n",
       "1  1993    japanese    men   61086642  3073971  3495553  3923919  4553643   \n",
       "2  1993    japanese  women   63236159  2925465  3329191  3737343  4357879   \n",
       "\n",
       "     20-24    25-29  ...    40-44    45-49    50-54    55-59    60-64  \\\n",
       "0  9773743  8542723  ...  9855717  9717145  8931630  7902202  7274968   \n",
       "1  4991314  4360891  ...  4979281  4884561  4435626  3875321  3504273   \n",
       "2  4782429  4181832  ...  4876436  4832584  4496004  4026881  3770695   \n",
       "\n",
       "     65-69    70-74    75-79        >79  unknown  \n",
       "0  6112329  4383023  3146144  3597831.0       14  \n",
       "1  2829758  1754580  1222594  1227294.0        7  \n",
       "2  3282571  2628443  1923550  2370537.0        7  \n",
       "\n",
       "[3 rows x 22 columns]"
      ]
     },
     "execution_count": 30,
     "metadata": {},
     "output_type": "execute_result"
    }
   ],
   "source": [
    "japan_age[japan_age[\"year\"] == 1993].dropna(axis=1, how=\"all\")"
   ]
  },
  {
   "cell_type": "code",
   "execution_count": 31,
   "id": "70735826-a7db-40d7-ad67-90bae17bc970",
   "metadata": {},
   "outputs": [
    {
     "data": {
      "text/plain": [
       "<Axes: xlabel='men'>"
      ]
     },
     "execution_count": 31,
     "metadata": {},
     "output_type": "execute_result"
    },
    {
     "data": {
      "image/png": "[encoded data removed]",
      "text/plain": [
       "<Figure size 640x480 with 1 Axes>"
      ]
     },
     "metadata": {},
     "output_type": "display_data"
    }
   ],
   "source": [
    "ja_for_plot = (\n",
    "    japan_age.loc[japan_age[\"year\"] == 1993]\n",
    "    .dropna(axis=1, how=\"all\")\n",
    "    .drop([\"year\", \"nationality\", \"unknown\", \"total-pop\"], axis=1, errors=\"ignore\")\n",
    ").set_index(\"gender\")\n",
    "\n",
    "ageranges = ja_for_plot.columns\n",
    "sortinds = np.argsort(\n",
    "    [int(agerange.split(\"-\")[0].split(\">\")[-1]) for agerange in ageranges]\n",
    ")[::-1]\n",
    "ageranges = np.array([r\"$\" + agerange + \"$\" for agerange in ageranges])\n",
    "\n",
    "fig, ax = plt.subplots()\n",
    "sns.barplot(\n",
    "    x=ja_for_plot.loc[\"women\"],\n",
    "    y=ageranges,\n",
    "    order=ageranges[sortinds],\n",
    "    color=\"pink\",\n",
    "    ax=ax,\n",
    ")  # \n",
    "sns.barplot(\n",
    "    x=-ja_for_plot.loc[\"men\"],\n",
    "    y=ageranges,\n",
    "    order=ageranges[sortinds],\n",
    "    color=\"lightblue\",\n",
    "    ax=ax,\n",
    ")  \n",
    "#ax.set_xlim([-6 * 10**6, 6 * 10**6])"
   ]
  },
  {
   "cell_type": "markdown",
   "id": "a7857095-681c-4f54-a512-d03964c156d0",
   "metadata": {},
   "source": [
    "In 2012 data about `non-japanese` residents becomes available"
   ]
  },
  {
   "cell_type": "code",
   "execution_count": 32,
   "id": "cdb4fbee-66d9-4893-9b3e-0bcdf7478a04",
   "metadata": {},
   "outputs": [
    {
     "data": {
      "text/plain": [
       "<Axes: xlabel='men'>"
      ]
     },
     "execution_count": 32,
     "metadata": {},
     "output_type": "execute_result"
    },
    {
     "data": {
      "image/png": "[encoded data removed]",
      "text/plain": [
       "<Figure size 640x480 with 1 Axes>"
      ]
     },
     "metadata": {},
     "output_type": "display_data"
    }
   ],
   "source": [
    "ja_for_plot = (\n",
    "    japan_age.loc[(japan_age[\"year\"] == 2012) & (japan_age['nationality'] == 'non-japanese')]\n",
    "    .dropna(axis=1, how=\"all\")\n",
    "    .drop([\"year\", \"nationality\", \"unknown\", \"total-pop\"], axis=1, errors=\"ignore\")\n",
    ").set_index(\"gender\")\n",
    "\n",
    "ageranges = ja_for_plot.columns\n",
    "sortinds = np.argsort(\n",
    "    [int(agerange.split(\"-\")[0].split(\">\")[-1]) for agerange in ageranges]\n",
    ")[::-1]\n",
    "ageranges = np.array([r\"$\" + agerange + \"$\" for agerange in ageranges])\n",
    "\n",
    "fig, ax = plt.subplots()\n",
    "sns.barplot(\n",
    "    x=ja_for_plot.loc[\"women\"],\n",
    "    y=ageranges,\n",
    "    order=ageranges[sortinds],\n",
    "    color=\"pink\",\n",
    "    ax=ax,\n",
    ")\n",
    "sns.barplot(\n",
    "    x=-ja_for_plot.loc[\"men\"],\n",
    "    y=ageranges,\n",
    "    order=ageranges[sortinds],\n",
    "    color=\"lightblue\",\n",
    "    ax=ax,\n",
    ")\n",
    "#ax.set_xlim([-6 * 10**6, 6 * 10**6])"
   ]
  },
  {
   "cell_type": "markdown",
   "id": "d1f0e4e2-7371-423b-860e-301f46d68925",
   "metadata": {},
   "source": [
    "In `2014` the binning becomes more precise at the older end "
   ]
  },
  {
   "cell_type": "code",
   "execution_count": 33,
   "id": "a3cbae90-5b90-4bce-81c4-87ebd9a52dc5",
   "metadata": {},
   "outputs": [
    {
     "data": {
      "text/plain": [
       "<Axes: xlabel='men'>"
      ]
     },
     "execution_count": 33,
     "metadata": {},
     "output_type": "execute_result"
    },
    {
     "data": {
      "image/png": "[encoded data removed]",
      "text/plain": [
       "<Figure size 640x480 with 1 Axes>"
      ]
     },
     "metadata": {},
     "output_type": "display_data"
    }
   ],
   "source": [
    "ja_for_plot = (\n",
    "    japan_age.loc[(japan_age[\"year\"] == 2014) & (japan_age['nationality'] == 'non-japanese')]\n",
    "    .dropna(axis=1, how=\"all\")\n",
    "    .drop([\"year\", \"nationality\", \"unknown\", \"total-pop\"], axis=1, errors=\"ignore\")\n",
    ").set_index(\"gender\")\n",
    "\n",
    "ageranges = ja_for_plot.columns\n",
    "sortinds = np.argsort(\n",
    "    [int(agerange.split(\"-\")[0].split(\">\")[-1]) for agerange in ageranges]\n",
    ")[::-1]\n",
    "ageranges = np.array([r\"$\" + agerange + \"$\" for agerange in ageranges])\n",
    "\n",
    "fig, ax = plt.subplots()\n",
    "sns.barplot(\n",
    "    x=ja_for_plot.loc[\"women\"],\n",
    "    y=ageranges,\n",
    "    order=ageranges[sortinds],\n",
    "    color=\"pink\",\n",
    "    ax=ax,\n",
    ")\n",
    "sns.barplot(\n",
    "    x=-ja_for_plot.loc[\"men\"],\n",
    "    y=ageranges,\n",
    "    order=ageranges[sortinds],\n",
    "    color=\"lightblue\",\n",
    "    ax=ax,\n",
    ")\n",
    "#ax.set_xlim([-6 * 10**6, 6 * 10**6])"
   ]
  },
  {
   "cell_type": "code",
   "execution_count": 34,
   "id": "b4f642a3-f405-4e1c-9cb5-6d4eaf9c8954",
   "metadata": {},
   "outputs": [],
   "source": [
    "total_pop_from_pop_df = japan_pop[[\"year\", \"nationality\", \"total-pop\"]]\n",
    "total_pop_from_age_df = japan_age.loc[japan_age['gender'] == 'total', [\"year\", \"nationality\", \"total-pop\"]]\n",
    "total_pop = total_pop_from_age_df.merge(total_pop_from_pop_df, on=[\"year\", \"nationality\"], how='left', suffixes=('_age','_pop'))\n",
    "assert(total_pop['total-pop_age'].equals(total_pop['total-pop_pop']))"
   ]
  },
  {
   "cell_type": "markdown",
   "id": "1c0664c5-1308-4319-86e6-2a8d09ab3686",
   "metadata": {},
   "source": [
    "# Prefectural and municipal demographics"
   ]
  },
  {
   "cell_type": "markdown",
   "id": "fa5ed6ce-a3f5-4466-8d2a-a03ea79468a9",
   "metadata": {},
   "source": [
    "All this data is also available at the prefectural and municipal level"
   ]
  },
  {
   "cell_type": "code",
   "execution_count": 35,
   "id": "7e364bba-3971-4a0a-9553-662fd55f4f85",
   "metadata": {},
   "outputs": [],
   "source": [
    "from japandata.population import pref_pop, pref_age, city_pop, city_age"
   ]
  },
  {
   "cell_type": "markdown",
   "id": "35887c35-0f40-4854-8135-612ea276e555",
   "metadata": {},
   "source": [
    "The prefectural data covers the same year ranges as the national data, while the municipal data begins in 1994.\n",
    "Be aware that the local population dataframes contains rows for both designated cities and subcomponents."
   ]
  },
  {
   "cell_type": "code",
   "execution_count": 36,
   "id": "cb65dae0-8d27-44bf-90be-eade83758fc2",
   "metadata": {},
   "outputs": [],
   "source": [
    "year = 2021\n",
    "nationality = 'all'"
   ]
  },
  {
   "cell_type": "code",
   "execution_count": 58,
   "id": "b8138b84-8f7d-4393-a7aa-f4aa77f339ae",
   "metadata": {},
   "outputs": [],
   "source": [
    "df = city_pop[(city_pop['year'] == year) & (city_pop['nationality'] == 'all')].copy()\n",
    "df['birth-minus-deaths-rate'] = df['births-minus-deaths']/df['total-pop']*1000"
   ]
  },
  {
   "cell_type": "code",
   "execution_count": 59,
   "id": "1f9688f5-8d1e-45ab-b389-8f5bf1b84c49",
   "metadata": {},
   "outputs": [],
   "source": [
    "from japandata.maps import add_df_to_map"
   ]
  },
  {
   "cell_type": "code",
   "execution_count": 60,
   "id": "70ee7f52-bb42-492f-9403-39834c919780",
   "metadata": {},
   "outputs": [
    {
     "name": "stderr",
     "output_type": "stream",
     "text": [
      "/Users/sam/Projects/civic/japandata/venv/lib/python3.10/site-packages/topojson/core/dedup.py:107: RuntimeWarning: invalid value encountered in cast\n",
      "  data[\"bookkeeping_shared_arcs\"] = array_bk_sarcs.astype(np.int64).tolist()\n"
     ]
    },
    {
     "name": "stdout",
     "output_type": "stream",
     "text": [
      "0 failures\n"
     ]
    }
   ],
   "source": [
    "df = add_df_to_map(df, year, 'jp_city_dc', 'stylized', clean=True)"
   ]
  },
  {
   "cell_type": "code",
   "execution_count": 68,
   "id": "bb3fbba8-d207-4c0e-9ce0-d3858116461a",
   "metadata": {},
   "outputs": [],
   "source": [
    "######################\n",
    "### Map Styling ######\n",
    "######################\n",
    "\n",
    "unhighlighted_style = {\n",
    "    \"color\": \"grey\",\n",
    "    \"weight\": .5,\n",
    "    \"fillOpacity\": 1,\n",
    "}\n",
    "\n",
    "highlighted_style = unhighlighted_style | {\"weight\": 4}\n",
    "\n",
    "tooltipstyle = \"\"\"\n",
    "        background-color: #F0EFEF;\n",
    "        border: 2px solid black;\n",
    "        border-radius: 3px;\n",
    "        box-shadow: 3px;\n",
    "    \"\"\"\n",
    "\n",
    "\n",
    "def fillColor(colormap, feature):\n",
    "    try:\n",
    "        return colormap(feature[\"properties\"][\"_dummy\"])\n",
    "    except (ValueError, KeyError, TypeError):\n",
    "        return \"black\"\n",
    "\n",
    "\n",
    "map_style = {\n",
    "    \"zoom_start\": 5,\n",
    "    \"tiles\": \"None\",\n",
    "    \"attr\": \" \",\n",
    "}"
   ]
  },
  {
   "cell_type": "code",
   "execution_count": 77,
   "id": "7ca86c18-e614-4483-8574-00d811190dc8",
   "metadata": {},
   "outputs": [],
   "source": [
    "datacolumn = \"birth-minus-deaths-rate\"\n",
    "datacolumnalias = \"Natural population change per 1000 people\"\n",
    "scalingfactor = 1\n",
    "\n",
    "\n",
    "df[\"_dummy\"] = df[datacolumn] / scalingfactor\n",
    "# maximum_dev = np.max(np.abs(df[\"_dummy\"]))\n",
    "maximum_dev = 20\n",
    "rgbacolors = matplotlib.colormaps[\"coolwarm\"](np.linspace(0, 1, 11))\n",
    "colormap = cm.LinearColormap(\n",
    "    [matplotlib.colors.to_hex(color) for color in rgbacolors], vmin=-maximum_dev, vmax=maximum_dev\n",
    ")"
   ]
  },
  {
   "cell_type": "code",
   "execution_count": null,
   "id": "4ddcceee-511c-471a-bd3e-2776e23cdcbd",
   "metadata": {},
   "outputs": [],
   "source": [
    "m = folium.Map(**map_style | {\"location\": [35.67, 139]})\n",
    "\n",
    "tooltip = GeoJsonTooltip(\n",
    "    fields=[\"prefecture\", \"city\", \"_dummy\"],\n",
    "    aliases=[\"Prefecture:\", \"City:\", datacolumnalias + \":\"],\n",
    "    localize=True,\n",
    "    sticky=False,\n",
    "    labels=True,\n",
    "    style=tooltipstyle,\n",
    "    max_width=800,\n",
    ")\n",
    "\n",
    "folium.GeoJson(\n",
    "    df,\n",
    "    name=\"_dummy\",\n",
    "    style_function=lambda feature: {\"fillColor\": fillColor(colormap, feature)}\n",
    "    | unhighlighted_style,\n",
    "    highlight_function=lambda feature: {\"fillColor\": fillColor(colormap, feature)}\n",
    "    | highlighted_style,\n",
    "    zoom_on_click=True,\n",
    "    tooltip=tooltip,\n",
    ").add_to(m)\n",
    "\n",
    "colormap.caption = datacolumnalias\n",
    "try:\n",
    "    colormap.add_to(m)\n",
    "except AttributeError:\n",
    "    pass\n",
    "\n",
    "m.save(PLOT_FOLDER + \"decline.html\")\n",
    "m"
   ]
  },
  {
   "cell_type": "code",
   "execution_count": null,
   "id": "4a7845ab-4283-4c94-a32e-8341903a57c2",
   "metadata": {},
   "outputs": [],
   "source": []
  },
  {
   "cell_type": "code",
   "execution_count": null,
   "id": "3e4df34f-a585-4e23-914c-1d69f774022d",
   "metadata": {},
   "outputs": [],
   "source": []
  }
 ],
 "metadata": {
  "kernelspec": {
   "display_name": "venv",
   "language": "python",
   "name": "venv"
  },
  "language_info": {
   "codemirror_mode": {
    "name": "ipython",
    "version": 3
   },
   "file_extension": ".py",
   "mimetype": "text/x-python",
   "name": "python",
   "nbconvert_exporter": "python",
   "pygments_lexer": "ipython3",
   "version": "3.10.8"
  }
 },
 "nbformat": 4,
 "nbformat_minor": 5
}
