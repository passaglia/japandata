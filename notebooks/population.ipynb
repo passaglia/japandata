{
 "cells": [
  {
   "cell_type": "markdown",
   "id": "82e0e3e2-001f-4ebe-af08-346745482199",
   "metadata": {},
   "source": [
    "# Demography with japandata.population"
   ]
  },
  {
   "cell_type": "code",
   "execution_count": null,
   "id": "dbcb8995-44b8-4f27-b914-2524e7b99fba",
   "metadata": {},
   "outputs": [],
   "source": [
    "import os\n",
    "PLOT_FOLDER = os.path.join(os.getcwd(),'population/')\n",
    "os.makedirs(PLOT_FOLDER, exist_ok=True)\n",
    "output_filetypes = ['png']"
   ]
  }
 ],
 "metadata": {
  "kernelspec": {
   "display_name": "venv",
   "language": "python",
   "name": "venv"
  },
  "language_info": {
   "codemirror_mode": {
    "name": "ipython",
    "version": 3
   },
   "file_extension": ".py",
   "mimetype": "text/x-python",
   "name": "python",
   "nbconvert_exporter": "python",
   "pygments_lexer": "ipython3",
   "version": "3.10.8"
  }
 },
 "nbformat": 4,
 "nbformat_minor": 5
}
