{
 "cells": [
  {
   "cell_type": "code",
   "execution_count": 1,
   "id": "14fe5dca-8c75-44d4-ba28-7ab09fc9f438",
   "metadata": {},
   "outputs": [],
   "source": [
    "import japandata"
   ]
  },
  {
   "cell_type": "code",
   "execution_count": null,
   "id": "2f383874-168d-4aaa-9261-b8f7509d8384",
   "metadata": {},
   "outputs": [],
   "source": []
  }
 ],
 "metadata": {
  "kernelspec": {
   "display_name": "venv",
   "language": "python",
   "name": "venv"
  },
  "language_info": {
   "codemirror_mode": {
    "name": "ipython",
    "version": 3
   },
   "file_extension": ".py",
   "mimetype": "text/x-python",
   "name": "python",
   "nbconvert_exporter": "python",
   "pygments_lexer": "ipython3",
   "version": "3.10.8"
  }
 },
 "nbformat": 4,
 "nbformat_minor": 5
}
