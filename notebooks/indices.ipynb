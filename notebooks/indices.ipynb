{
 "cells": [
  {
   "cell_type": "markdown",
   "id": "9aa4e820-552a-48bd-b024-5bc3abccf810",
   "metadata": {},
   "source": [
    "# Government fiscal health with japandata.indices"
   ]
  },
  {
   "cell_type": "code",
   "execution_count": 1,
   "id": "e692f76b-bc22-45f5-a9a7-a196dbba1090",
   "metadata": {},
   "outputs": [],
   "source": [
    "from japandata.indices import pref, prefmean, city, designatedcity, capital"
   ]
  },
  {
   "cell_type": "code",
   "execution_count": 1,
   "id": "ff44c95c-d32a-4354-8ed2-f2f0118731e9",
   "metadata": {},
   "outputs": [],
   "source": [
    "import os\n",
    "\n",
    "PLOT_FOLDER = os.path.join(os.getcwd(),'indices/')\n",
    "output_filetypes = ['png']\n",
    "os.makedirs(PLOT_FOLDER, exist_ok=True)"
   ]
  },
  {
   "cell_type": "code",
   "execution_count": null,
   "id": "a16038b6-cb48-41a3-9560-1fb1bd3ea0ae",
   "metadata": {},
   "outputs": [],
   "source": [
    "from japandata.indices import pref_indices, city_indices, mean_indices"
   ]
  },
  {
   "cell_type": "code",
   "execution_count": null,
   "id": "201923e0-cbfd-4aaf-88b2-28a247afbe42",
   "metadata": {},
   "outputs": [],
   "source": [
    "pref_indices.head()"
   ]
  },
  {
   "cell_type": "code",
   "execution_count": null,
   "id": "8f1bbe01-afc1-48fd-8235-ba3a890c69fa",
   "metadata": {},
   "outputs": [],
   "source": [
    "city_indices.head()"
   ]
  },
  {
   "cell_type": "code",
   "execution_count": null,
   "id": "7c505542-4738-4985-9135-30f7eb1dd4ea",
   "metadata": {},
   "outputs": [],
   "source": [
    "mean_indices.head()"
   ]
  },
  {
   "cell_type": "code",
   "execution_count": null,
   "id": "6a5b6ef2-3ee1-4a18-9588-561b3684b73f",
   "metadata": {},
   "outputs": [],
   "source": [
    "## NOTE THAT SOME OF THE COLUMNS MEASURE DIFFERENT THINGS FOR TOKYO 23 THAN FOR OTHER LOCALITIES.\n"
   ]
  }
 ],
 "metadata": {
  "kernelspec": {
   "display_name": "venv",
   "language": "python",
   "name": "venv"
  },
  "language_info": {
   "codemirror_mode": {
    "name": "ipython",
    "version": 3
   },
   "file_extension": ".py",
   "mimetype": "text/x-python",
   "name": "python",
   "nbconvert_exporter": "python",
   "pygments_lexer": "ipython3",
   "version": "3.10.8"
  }
 },
 "nbformat": 4,
 "nbformat_minor": 5
}
