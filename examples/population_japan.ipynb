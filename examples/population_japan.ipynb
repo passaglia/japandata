{
 "cells": [
  {
   "cell_type": "markdown",
   "metadata": {},
   "source": [
    "\n",
    "# population_japan_example\n",
    "## Notebook showing how to use japandata.population.data.japan_pop_df and japan_age_df\n",
    "### Author: Sam Passaglia\n"
   ]
  },
  {
   "cell_type": "code",
   "execution_count": 1,
   "metadata": {},
   "outputs": [],
   "source": [
    "import os\n",
    "PLOT_FOLDER = os.path.join(os.getcwd(),'population_japan_output/')\n",
    "os.makedirs(PLOT_FOLDER, exist_ok=True)\n",
    "output_filetypes = ['pdf']"
   ]
  },
  {
   "cell_type": "markdown",
   "metadata": {},
   "source": [
    "### JapanData.population.data directly provides two dataframes japan_pop_df and japan_age_df that contain data about all of Japan"
   ]
  },
  {
   "cell_type": "code",
   "execution_count": 2,
   "metadata": {},
   "outputs": [
    {
     "name": "stdout",
     "output_type": "stream",
     "text": [
      "1994\n",
      "1995\n",
      "1996\n",
      "1997\n",
      "1998\n",
      "1999\n",
      "2000\n",
      "2001\n",
      "2002\n",
      "2003\n",
      "2004\n",
      "2005\n",
      "2006\n",
      "2007\n",
      "2008\n",
      "2009\n",
      "2010\n",
      "2011\n",
      "2012\n",
      "2013\n",
      "2014\n",
      "2015\n",
      "2016\n",
      "2017\n",
      "2018\n",
      "2019\n",
      "2020\n",
      "2021\n"
     ]
    }
   ],
   "source": [
    "from japandata.population.data import japan_pop_df as jpop_df\n",
    "from japandata.population.data import japan_age_df as jage_df"
   ]
  },
  {
   "cell_type": "code",
   "execution_count": 3,
   "metadata": {
    "scrolled": true
   },
   "outputs": [
    {
     "data": {
      "text/plain": [
       "year                                 int64\n",
       "men                                float64\n",
       "women                              float64\n",
       "total-pop                          float64\n",
       "households                         float64\n",
       "in-minus-out                       float64\n",
       "moved-out-international            float64\n",
       "social-in-minus-social-out         float64\n",
       "moved-in-domestic                  float64\n",
       "moved-in                           float64\n",
       "born                               float64\n",
       "total-pop-corrected                float64\n",
       "in-minus-out-rate                  float64\n",
       "moved-out-domestic                 float64\n",
       "born-minus-died                    float64\n",
       "moved-out                          float64\n",
       "total-out                          float64\n",
       "social-in-minus-social-out-rate    float64\n",
       "other-out                          float64\n",
       "households-corrected               float64\n",
       "total-in                           float64\n",
       "moved-in-international             float64\n",
       "born-minus-died-rate               float64\n",
       "other-in                           float64\n",
       "died                               float64\n",
       "dtype: object"
      ]
     },
     "execution_count": 3,
     "metadata": {},
     "output_type": "execute_result"
    }
   ],
   "source": [
    "jpop_df.dtypes"
   ]
  },
  {
   "cell_type": "code",
   "execution_count": 4,
   "metadata": {},
   "outputs": [
    {
     "data": {
      "text/plain": [
       "year                     int64\n",
       "gender                  object\n",
       "total-pop              float64\n",
       "0-4                    float64\n",
       "5-9                    float64\n",
       "10-14                  float64\n",
       "15-19                  float64\n",
       "20-24                  float64\n",
       "25-29                  float64\n",
       "30-34                  float64\n",
       "35-39                  float64\n",
       "40-44                  float64\n",
       "45-49                  float64\n",
       "50-54                  float64\n",
       "55-59                  float64\n",
       "60-64                  float64\n",
       "65-69                  float64\n",
       "70-74                  float64\n",
       "75-79                  float64\n",
       ">79                    float64\n",
       "unknown                float64\n",
       "90-94                  float64\n",
       "80-84                  float64\n",
       ">99                    float64\n",
       "85-89                  float64\n",
       "95-99                  float64\n",
       "total-pop-corrected    float64\n",
       "dtype: object"
      ]
     },
     "execution_count": 4,
     "metadata": {},
     "output_type": "execute_result"
    }
   ],
   "source": [
    "jage_df.dtypes"
   ]
  },
  {
   "cell_type": "markdown",
   "metadata": {},
   "source": [
    "### The data gets more detailed as time goes on."
   ]
  },
  {
   "cell_type": "code",
   "execution_count": 5,
   "metadata": {},
   "outputs": [
    {
     "data": {
      "text/html": [
       "<div>\n",
       "<style scoped>\n",
       "    .dataframe tbody tr th:only-of-type {\n",
       "        vertical-align: middle;\n",
       "    }\n",
       "\n",
       "    .dataframe tbody tr th {\n",
       "        vertical-align: top;\n",
       "    }\n",
       "\n",
       "    .dataframe thead th {\n",
       "        text-align: right;\n",
       "    }\n",
       "</style>\n",
       "<table border=\"1\" class=\"dataframe\">\n",
       "  <thead>\n",
       "    <tr style=\"text-align: right;\">\n",
       "      <th></th>\n",
       "      <th>year</th>\n",
       "      <th>men</th>\n",
       "      <th>women</th>\n",
       "      <th>total-pop</th>\n",
       "      <th>households</th>\n",
       "      <th>in-minus-out</th>\n",
       "      <th>moved-out-international</th>\n",
       "      <th>social-in-minus-social-out</th>\n",
       "      <th>moved-in-domestic</th>\n",
       "      <th>moved-in</th>\n",
       "      <th>...</th>\n",
       "      <th>moved-out</th>\n",
       "      <th>total-out</th>\n",
       "      <th>social-in-minus-social-out-rate</th>\n",
       "      <th>other-out</th>\n",
       "      <th>households-corrected</th>\n",
       "      <th>total-in</th>\n",
       "      <th>moved-in-international</th>\n",
       "      <th>born-minus-died-rate</th>\n",
       "      <th>other-in</th>\n",
       "      <th>died</th>\n",
       "    </tr>\n",
       "  </thead>\n",
       "  <tbody>\n",
       "    <tr>\n",
       "      <th>0</th>\n",
       "      <td>1967</td>\n",
       "      <td>50361080.0</td>\n",
       "      <td>51626940.0</td>\n",
       "      <td>101988020.0</td>\n",
       "      <td>27115293.0</td>\n",
       "      <td>NaN</td>\n",
       "      <td>NaN</td>\n",
       "      <td>NaN</td>\n",
       "      <td>NaN</td>\n",
       "      <td>NaN</td>\n",
       "      <td>...</td>\n",
       "      <td>NaN</td>\n",
       "      <td>NaN</td>\n",
       "      <td>NaN</td>\n",
       "      <td>NaN</td>\n",
       "      <td>NaN</td>\n",
       "      <td>NaN</td>\n",
       "      <td>NaN</td>\n",
       "      <td>NaN</td>\n",
       "      <td>NaN</td>\n",
       "      <td>NaN</td>\n",
       "    </tr>\n",
       "    <tr>\n",
       "      <th>1</th>\n",
       "      <td>1968</td>\n",
       "      <td>50731717.0</td>\n",
       "      <td>52015557.0</td>\n",
       "      <td>102747274.0</td>\n",
       "      <td>28205976.0</td>\n",
       "      <td>NaN</td>\n",
       "      <td>NaN</td>\n",
       "      <td>NaN</td>\n",
       "      <td>NaN</td>\n",
       "      <td>NaN</td>\n",
       "      <td>...</td>\n",
       "      <td>NaN</td>\n",
       "      <td>NaN</td>\n",
       "      <td>NaN</td>\n",
       "      <td>NaN</td>\n",
       "      <td>NaN</td>\n",
       "      <td>NaN</td>\n",
       "      <td>NaN</td>\n",
       "      <td>NaN</td>\n",
       "      <td>NaN</td>\n",
       "      <td>NaN</td>\n",
       "    </tr>\n",
       "    <tr>\n",
       "      <th>2</th>\n",
       "      <td>1969</td>\n",
       "      <td>51075492.0</td>\n",
       "      <td>52446420.0</td>\n",
       "      <td>103521912.0</td>\n",
       "      <td>29146288.0</td>\n",
       "      <td>NaN</td>\n",
       "      <td>NaN</td>\n",
       "      <td>NaN</td>\n",
       "      <td>NaN</td>\n",
       "      <td>NaN</td>\n",
       "      <td>...</td>\n",
       "      <td>NaN</td>\n",
       "      <td>NaN</td>\n",
       "      <td>NaN</td>\n",
       "      <td>NaN</td>\n",
       "      <td>NaN</td>\n",
       "      <td>NaN</td>\n",
       "      <td>NaN</td>\n",
       "      <td>NaN</td>\n",
       "      <td>NaN</td>\n",
       "      <td>NaN</td>\n",
       "    </tr>\n",
       "    <tr>\n",
       "      <th>3</th>\n",
       "      <td>1970</td>\n",
       "      <td>51574398.0</td>\n",
       "      <td>52965282.0</td>\n",
       "      <td>104539680.0</td>\n",
       "      <td>30027454.0</td>\n",
       "      <td>NaN</td>\n",
       "      <td>NaN</td>\n",
       "      <td>NaN</td>\n",
       "      <td>NaN</td>\n",
       "      <td>NaN</td>\n",
       "      <td>...</td>\n",
       "      <td>NaN</td>\n",
       "      <td>NaN</td>\n",
       "      <td>NaN</td>\n",
       "      <td>NaN</td>\n",
       "      <td>NaN</td>\n",
       "      <td>NaN</td>\n",
       "      <td>NaN</td>\n",
       "      <td>NaN</td>\n",
       "      <td>NaN</td>\n",
       "      <td>NaN</td>\n",
       "    </tr>\n",
       "    <tr>\n",
       "      <th>4</th>\n",
       "      <td>1971</td>\n",
       "      <td>52234442.0</td>\n",
       "      <td>53620077.0</td>\n",
       "      <td>105854519.0</td>\n",
       "      <td>30853005.0</td>\n",
       "      <td>NaN</td>\n",
       "      <td>NaN</td>\n",
       "      <td>NaN</td>\n",
       "      <td>NaN</td>\n",
       "      <td>NaN</td>\n",
       "      <td>...</td>\n",
       "      <td>NaN</td>\n",
       "      <td>NaN</td>\n",
       "      <td>NaN</td>\n",
       "      <td>NaN</td>\n",
       "      <td>NaN</td>\n",
       "      <td>NaN</td>\n",
       "      <td>NaN</td>\n",
       "      <td>NaN</td>\n",
       "      <td>NaN</td>\n",
       "      <td>NaN</td>\n",
       "    </tr>\n",
       "  </tbody>\n",
       "</table>\n",
       "<p>5 rows × 25 columns</p>\n",
       "</div>"
      ],
      "text/plain": [
       "   year         men       women    total-pop  households  in-minus-out  \\\n",
       "0  1967  50361080.0  51626940.0  101988020.0  27115293.0           NaN   \n",
       "1  1968  50731717.0  52015557.0  102747274.0  28205976.0           NaN   \n",
       "2  1969  51075492.0  52446420.0  103521912.0  29146288.0           NaN   \n",
       "3  1970  51574398.0  52965282.0  104539680.0  30027454.0           NaN   \n",
       "4  1971  52234442.0  53620077.0  105854519.0  30853005.0           NaN   \n",
       "\n",
       "   moved-out-international  social-in-minus-social-out  moved-in-domestic  \\\n",
       "0                      NaN                         NaN                NaN   \n",
       "1                      NaN                         NaN                NaN   \n",
       "2                      NaN                         NaN                NaN   \n",
       "3                      NaN                         NaN                NaN   \n",
       "4                      NaN                         NaN                NaN   \n",
       "\n",
       "   moved-in  ...  moved-out  total-out  social-in-minus-social-out-rate  \\\n",
       "0       NaN  ...        NaN        NaN                              NaN   \n",
       "1       NaN  ...        NaN        NaN                              NaN   \n",
       "2       NaN  ...        NaN        NaN                              NaN   \n",
       "3       NaN  ...        NaN        NaN                              NaN   \n",
       "4       NaN  ...        NaN        NaN                              NaN   \n",
       "\n",
       "   other-out  households-corrected  total-in  moved-in-international  \\\n",
       "0        NaN                   NaN       NaN                     NaN   \n",
       "1        NaN                   NaN       NaN                     NaN   \n",
       "2        NaN                   NaN       NaN                     NaN   \n",
       "3        NaN                   NaN       NaN                     NaN   \n",
       "4        NaN                   NaN       NaN                     NaN   \n",
       "\n",
       "   born-minus-died-rate  other-in  died  \n",
       "0                   NaN       NaN   NaN  \n",
       "1                   NaN       NaN   NaN  \n",
       "2                   NaN       NaN   NaN  \n",
       "3                   NaN       NaN   NaN  \n",
       "4                   NaN       NaN   NaN  \n",
       "\n",
       "[5 rows x 25 columns]"
      ]
     },
     "execution_count": 5,
     "metadata": {},
     "output_type": "execute_result"
    }
   ],
   "source": [
    "jpop_df.head()"
   ]
  },
  {
   "cell_type": "code",
   "execution_count": 6,
   "metadata": {
    "scrolled": true
   },
   "outputs": [
    {
     "data": {
      "text/html": [
       "<div>\n",
       "<style scoped>\n",
       "    .dataframe tbody tr th:only-of-type {\n",
       "        vertical-align: middle;\n",
       "    }\n",
       "\n",
       "    .dataframe tbody tr th {\n",
       "        vertical-align: top;\n",
       "    }\n",
       "\n",
       "    .dataframe thead th {\n",
       "        text-align: right;\n",
       "    }\n",
       "</style>\n",
       "<table border=\"1\" class=\"dataframe\">\n",
       "  <thead>\n",
       "    <tr style=\"text-align: right;\">\n",
       "      <th></th>\n",
       "      <th>year</th>\n",
       "      <th>men</th>\n",
       "      <th>women</th>\n",
       "      <th>total-pop</th>\n",
       "      <th>households</th>\n",
       "      <th>in-minus-out</th>\n",
       "      <th>moved-out-international</th>\n",
       "      <th>social-in-minus-social-out</th>\n",
       "      <th>moved-in-domestic</th>\n",
       "      <th>moved-in</th>\n",
       "      <th>...</th>\n",
       "      <th>moved-out</th>\n",
       "      <th>total-out</th>\n",
       "      <th>social-in-minus-social-out-rate</th>\n",
       "      <th>other-out</th>\n",
       "      <th>households-corrected</th>\n",
       "      <th>total-in</th>\n",
       "      <th>moved-in-international</th>\n",
       "      <th>born-minus-died-rate</th>\n",
       "      <th>other-in</th>\n",
       "      <th>died</th>\n",
       "    </tr>\n",
       "  </thead>\n",
       "  <tbody>\n",
       "    <tr>\n",
       "      <th>49</th>\n",
       "      <td>2016</td>\n",
       "      <td>62394275.0</td>\n",
       "      <td>65512811.0</td>\n",
       "      <td>127907086.0</td>\n",
       "      <td>57477037.0</td>\n",
       "      <td>-159125.0</td>\n",
       "      <td>291774.0</td>\n",
       "      <td>159399.0</td>\n",
       "      <td>5244795.0</td>\n",
       "      <td>5783869.0</td>\n",
       "      <td>...</td>\n",
       "      <td>5546752.0</td>\n",
       "      <td>7030345.0</td>\n",
       "      <td>0.124466</td>\n",
       "      <td>167288.0</td>\n",
       "      <td>NaN</td>\n",
       "      <td>6871220.0</td>\n",
       "      <td>539074.0</td>\n",
       "      <td>-0.248718</td>\n",
       "      <td>89570.0</td>\n",
       "      <td>1316305.0</td>\n",
       "    </tr>\n",
       "    <tr>\n",
       "      <th>50</th>\n",
       "      <td>2017</td>\n",
       "      <td>62298889.0</td>\n",
       "      <td>65408370.0</td>\n",
       "      <td>127707259.0</td>\n",
       "      <td>58007536.0</td>\n",
       "      <td>-199827.0</td>\n",
       "      <td>305526.0</td>\n",
       "      <td>183193.0</td>\n",
       "      <td>5310968.0</td>\n",
       "      <td>5900181.0</td>\n",
       "      <td>...</td>\n",
       "      <td>5629168.0</td>\n",
       "      <td>7148999.0</td>\n",
       "      <td>0.143223</td>\n",
       "      <td>172121.0</td>\n",
       "      <td>NaN</td>\n",
       "      <td>6949172.0</td>\n",
       "      <td>589213.0</td>\n",
       "      <td>-0.299452</td>\n",
       "      <td>84301.0</td>\n",
       "      <td>1347710.0</td>\n",
       "    </tr>\n",
       "    <tr>\n",
       "      <th>51</th>\n",
       "      <td>2018</td>\n",
       "      <td>62174142.0</td>\n",
       "      <td>65269421.0</td>\n",
       "      <td>127443563.0</td>\n",
       "      <td>58527117.0</td>\n",
       "      <td>-263696.0</td>\n",
       "      <td>332109.0</td>\n",
       "      <td>169513.0</td>\n",
       "      <td>5349543.0</td>\n",
       "      <td>5975239.0</td>\n",
       "      <td>...</td>\n",
       "      <td>5697155.0</td>\n",
       "      <td>7253317.0</td>\n",
       "      <td>0.132736</td>\n",
       "      <td>185411.0</td>\n",
       "      <td>NaN</td>\n",
       "      <td>6989621.0</td>\n",
       "      <td>625696.0</td>\n",
       "      <td>-0.339220</td>\n",
       "      <td>76840.0</td>\n",
       "      <td>1370751.0</td>\n",
       "    </tr>\n",
       "    <tr>\n",
       "      <th>52</th>\n",
       "      <td>2019</td>\n",
       "      <td>62036028.0</td>\n",
       "      <td>65102005.0</td>\n",
       "      <td>127138033.0</td>\n",
       "      <td>59071519.0</td>\n",
       "      <td>-305530.0</td>\n",
       "      <td>362923.0</td>\n",
       "      <td>195915.0</td>\n",
       "      <td>5392557.0</td>\n",
       "      <td>6078094.0</td>\n",
       "      <td>...</td>\n",
       "      <td>5772422.0</td>\n",
       "      <td>7340100.0</td>\n",
       "      <td>0.153727</td>\n",
       "      <td>181466.0</td>\n",
       "      <td>NaN</td>\n",
       "      <td>7034570.0</td>\n",
       "      <td>685537.0</td>\n",
       "      <td>-0.393464</td>\n",
       "      <td>71709.0</td>\n",
       "      <td>1386212.0</td>\n",
       "    </tr>\n",
       "    <tr>\n",
       "      <th>53</th>\n",
       "      <td>2020</td>\n",
       "      <td>61797907.0</td>\n",
       "      <td>64856337.0</td>\n",
       "      <td>126654244.0</td>\n",
       "      <td>59497356.0</td>\n",
       "      <td>-483789.0</td>\n",
       "      <td>233847.0</td>\n",
       "      <td>35935.0</td>\n",
       "      <td>5251354.0</td>\n",
       "      <td>5633991.0</td>\n",
       "      <td>...</td>\n",
       "      <td>5502550.0</td>\n",
       "      <td>7072727.0</td>\n",
       "      <td>0.028265</td>\n",
       "      <td>188609.0</td>\n",
       "      <td>NaN</td>\n",
       "      <td>6588938.0</td>\n",
       "      <td>382637.0</td>\n",
       "      <td>-0.408787</td>\n",
       "      <td>93103.0</td>\n",
       "      <td>1381568.0</td>\n",
       "    </tr>\n",
       "  </tbody>\n",
       "</table>\n",
       "<p>5 rows × 25 columns</p>\n",
       "</div>"
      ],
      "text/plain": [
       "    year         men       women    total-pop  households  in-minus-out  \\\n",
       "49  2016  62394275.0  65512811.0  127907086.0  57477037.0     -159125.0   \n",
       "50  2017  62298889.0  65408370.0  127707259.0  58007536.0     -199827.0   \n",
       "51  2018  62174142.0  65269421.0  127443563.0  58527117.0     -263696.0   \n",
       "52  2019  62036028.0  65102005.0  127138033.0  59071519.0     -305530.0   \n",
       "53  2020  61797907.0  64856337.0  126654244.0  59497356.0     -483789.0   \n",
       "\n",
       "    moved-out-international  social-in-minus-social-out  moved-in-domestic  \\\n",
       "49                 291774.0                    159399.0          5244795.0   \n",
       "50                 305526.0                    183193.0          5310968.0   \n",
       "51                 332109.0                    169513.0          5349543.0   \n",
       "52                 362923.0                    195915.0          5392557.0   \n",
       "53                 233847.0                     35935.0          5251354.0   \n",
       "\n",
       "     moved-in  ...  moved-out  total-out  social-in-minus-social-out-rate  \\\n",
       "49  5783869.0  ...  5546752.0  7030345.0                         0.124466   \n",
       "50  5900181.0  ...  5629168.0  7148999.0                         0.143223   \n",
       "51  5975239.0  ...  5697155.0  7253317.0                         0.132736   \n",
       "52  6078094.0  ...  5772422.0  7340100.0                         0.153727   \n",
       "53  5633991.0  ...  5502550.0  7072727.0                         0.028265   \n",
       "\n",
       "    other-out  households-corrected   total-in  moved-in-international  \\\n",
       "49   167288.0                   NaN  6871220.0                539074.0   \n",
       "50   172121.0                   NaN  6949172.0                589213.0   \n",
       "51   185411.0                   NaN  6989621.0                625696.0   \n",
       "52   181466.0                   NaN  7034570.0                685537.0   \n",
       "53   188609.0                   NaN  6588938.0                382637.0   \n",
       "\n",
       "    born-minus-died-rate  other-in       died  \n",
       "49             -0.248718   89570.0  1316305.0  \n",
       "50             -0.299452   84301.0  1347710.0  \n",
       "51             -0.339220   76840.0  1370751.0  \n",
       "52             -0.393464   71709.0  1386212.0  \n",
       "53             -0.408787   93103.0  1381568.0  \n",
       "\n",
       "[5 rows x 25 columns]"
      ]
     },
     "execution_count": 6,
     "metadata": {},
     "output_type": "execute_result"
    }
   ],
   "source": [
    "jpop_df.tail()"
   ]
  },
  {
   "cell_type": "code",
   "execution_count": 7,
   "metadata": {
    "scrolled": true
   },
   "outputs": [
    {
     "data": {
      "text/html": [
       "<div>\n",
       "<style scoped>\n",
       "    .dataframe tbody tr th:only-of-type {\n",
       "        vertical-align: middle;\n",
       "    }\n",
       "\n",
       "    .dataframe tbody tr th {\n",
       "        vertical-align: top;\n",
       "    }\n",
       "\n",
       "    .dataframe thead th {\n",
       "        text-align: right;\n",
       "    }\n",
       "</style>\n",
       "<table border=\"1\" class=\"dataframe\">\n",
       "  <thead>\n",
       "    <tr style=\"text-align: right;\">\n",
       "      <th></th>\n",
       "      <th>year</th>\n",
       "      <th>gender</th>\n",
       "      <th>total-pop</th>\n",
       "      <th>0-4</th>\n",
       "      <th>5-9</th>\n",
       "      <th>10-14</th>\n",
       "      <th>15-19</th>\n",
       "      <th>20-24</th>\n",
       "      <th>25-29</th>\n",
       "      <th>30-34</th>\n",
       "      <th>...</th>\n",
       "      <th>70-74</th>\n",
       "      <th>75-79</th>\n",
       "      <th>&gt;79</th>\n",
       "      <th>unknown</th>\n",
       "      <th>90-94</th>\n",
       "      <th>80-84</th>\n",
       "      <th>&gt;99</th>\n",
       "      <th>85-89</th>\n",
       "      <th>95-99</th>\n",
       "      <th>total-pop-corrected</th>\n",
       "    </tr>\n",
       "  </thead>\n",
       "  <tbody>\n",
       "    <tr>\n",
       "      <th>0</th>\n",
       "      <td>1993</td>\n",
       "      <td>total</td>\n",
       "      <td>124322801.0</td>\n",
       "      <td>5999436.0</td>\n",
       "      <td>6824744.0</td>\n",
       "      <td>7661262.0</td>\n",
       "      <td>8911522.0</td>\n",
       "      <td>9773743.0</td>\n",
       "      <td>8542723.0</td>\n",
       "      <td>7791734.0</td>\n",
       "      <td>...</td>\n",
       "      <td>4383023.0</td>\n",
       "      <td>3146144.0</td>\n",
       "      <td>3597831.0</td>\n",
       "      <td>14.0</td>\n",
       "      <td>NaN</td>\n",
       "      <td>NaN</td>\n",
       "      <td>NaN</td>\n",
       "      <td>NaN</td>\n",
       "      <td>NaN</td>\n",
       "      <td>NaN</td>\n",
       "    </tr>\n",
       "    <tr>\n",
       "      <th>1</th>\n",
       "      <td>1993</td>\n",
       "      <td>men</td>\n",
       "      <td>61086642.0</td>\n",
       "      <td>3073971.0</td>\n",
       "      <td>3495553.0</td>\n",
       "      <td>3923919.0</td>\n",
       "      <td>4553643.0</td>\n",
       "      <td>4991314.0</td>\n",
       "      <td>4360891.0</td>\n",
       "      <td>3968135.0</td>\n",
       "      <td>...</td>\n",
       "      <td>1754580.0</td>\n",
       "      <td>1222594.0</td>\n",
       "      <td>1227294.0</td>\n",
       "      <td>7.0</td>\n",
       "      <td>NaN</td>\n",
       "      <td>NaN</td>\n",
       "      <td>NaN</td>\n",
       "      <td>NaN</td>\n",
       "      <td>NaN</td>\n",
       "      <td>NaN</td>\n",
       "    </tr>\n",
       "    <tr>\n",
       "      <th>2</th>\n",
       "      <td>1993</td>\n",
       "      <td>women</td>\n",
       "      <td>63236159.0</td>\n",
       "      <td>2925465.0</td>\n",
       "      <td>3329191.0</td>\n",
       "      <td>3737343.0</td>\n",
       "      <td>4357879.0</td>\n",
       "      <td>4782429.0</td>\n",
       "      <td>4181832.0</td>\n",
       "      <td>3823599.0</td>\n",
       "      <td>...</td>\n",
       "      <td>2628443.0</td>\n",
       "      <td>1923550.0</td>\n",
       "      <td>2370537.0</td>\n",
       "      <td>7.0</td>\n",
       "      <td>NaN</td>\n",
       "      <td>NaN</td>\n",
       "      <td>NaN</td>\n",
       "      <td>NaN</td>\n",
       "      <td>NaN</td>\n",
       "      <td>NaN</td>\n",
       "    </tr>\n",
       "    <tr>\n",
       "      <th>3</th>\n",
       "      <td>1994</td>\n",
       "      <td>total</td>\n",
       "      <td>124655498.0</td>\n",
       "      <td>5990695.0</td>\n",
       "      <td>6598951.0</td>\n",
       "      <td>7503390.0</td>\n",
       "      <td>8551802.0</td>\n",
       "      <td>9874497.0</td>\n",
       "      <td>8702998.0</td>\n",
       "      <td>7934200.0</td>\n",
       "      <td>...</td>\n",
       "      <td>4577689.0</td>\n",
       "      <td>3218522.0</td>\n",
       "      <td>3835228.0</td>\n",
       "      <td>10.0</td>\n",
       "      <td>NaN</td>\n",
       "      <td>NaN</td>\n",
       "      <td>NaN</td>\n",
       "      <td>NaN</td>\n",
       "      <td>NaN</td>\n",
       "      <td>NaN</td>\n",
       "    </tr>\n",
       "    <tr>\n",
       "      <th>4</th>\n",
       "      <td>1994</td>\n",
       "      <td>men</td>\n",
       "      <td>61235468.0</td>\n",
       "      <td>3069050.0</td>\n",
       "      <td>3381090.0</td>\n",
       "      <td>3841949.0</td>\n",
       "      <td>4370618.0</td>\n",
       "      <td>5043292.0</td>\n",
       "      <td>4446044.0</td>\n",
       "      <td>4042387.0</td>\n",
       "      <td>...</td>\n",
       "      <td>1867169.0</td>\n",
       "      <td>1234278.0</td>\n",
       "      <td>1317068.0</td>\n",
       "      <td>8.0</td>\n",
       "      <td>NaN</td>\n",
       "      <td>NaN</td>\n",
       "      <td>NaN</td>\n",
       "      <td>NaN</td>\n",
       "      <td>NaN</td>\n",
       "      <td>NaN</td>\n",
       "    </tr>\n",
       "  </tbody>\n",
       "</table>\n",
       "<p>5 rows × 27 columns</p>\n",
       "</div>"
      ],
      "text/plain": [
       "   year gender    total-pop        0-4        5-9      10-14      15-19  \\\n",
       "0  1993  total  124322801.0  5999436.0  6824744.0  7661262.0  8911522.0   \n",
       "1  1993    men   61086642.0  3073971.0  3495553.0  3923919.0  4553643.0   \n",
       "2  1993  women   63236159.0  2925465.0  3329191.0  3737343.0  4357879.0   \n",
       "3  1994  total  124655498.0  5990695.0  6598951.0  7503390.0  8551802.0   \n",
       "4  1994    men   61235468.0  3069050.0  3381090.0  3841949.0  4370618.0   \n",
       "\n",
       "       20-24      25-29      30-34  ...      70-74      75-79        >79  \\\n",
       "0  9773743.0  8542723.0  7791734.0  ...  4383023.0  3146144.0  3597831.0   \n",
       "1  4991314.0  4360891.0  3968135.0  ...  1754580.0  1222594.0  1227294.0   \n",
       "2  4782429.0  4181832.0  3823599.0  ...  2628443.0  1923550.0  2370537.0   \n",
       "3  9874497.0  8702998.0  7934200.0  ...  4577689.0  3218522.0  3835228.0   \n",
       "4  5043292.0  4446044.0  4042387.0  ...  1867169.0  1234278.0  1317068.0   \n",
       "\n",
       "   unknown  90-94  80-84  >99  85-89  95-99  total-pop-corrected  \n",
       "0     14.0    NaN    NaN  NaN    NaN    NaN                  NaN  \n",
       "1      7.0    NaN    NaN  NaN    NaN    NaN                  NaN  \n",
       "2      7.0    NaN    NaN  NaN    NaN    NaN                  NaN  \n",
       "3     10.0    NaN    NaN  NaN    NaN    NaN                  NaN  \n",
       "4      8.0    NaN    NaN  NaN    NaN    NaN                  NaN  \n",
       "\n",
       "[5 rows x 27 columns]"
      ]
     },
     "execution_count": 7,
     "metadata": {},
     "output_type": "execute_result"
    }
   ],
   "source": [
    "jage_df.head()"
   ]
  },
  {
   "cell_type": "code",
   "execution_count": 8,
   "metadata": {},
   "outputs": [
    {
     "data": {
      "text/html": [
       "<div>\n",
       "<style scoped>\n",
       "    .dataframe tbody tr th:only-of-type {\n",
       "        vertical-align: middle;\n",
       "    }\n",
       "\n",
       "    .dataframe tbody tr th {\n",
       "        vertical-align: top;\n",
       "    }\n",
       "\n",
       "    .dataframe thead th {\n",
       "        text-align: right;\n",
       "    }\n",
       "</style>\n",
       "<table border=\"1\" class=\"dataframe\">\n",
       "  <thead>\n",
       "    <tr style=\"text-align: right;\">\n",
       "      <th></th>\n",
       "      <th>year</th>\n",
       "      <th>gender</th>\n",
       "      <th>total-pop</th>\n",
       "      <th>0-4</th>\n",
       "      <th>5-9</th>\n",
       "      <th>10-14</th>\n",
       "      <th>15-19</th>\n",
       "      <th>20-24</th>\n",
       "      <th>25-29</th>\n",
       "      <th>30-34</th>\n",
       "      <th>...</th>\n",
       "      <th>70-74</th>\n",
       "      <th>75-79</th>\n",
       "      <th>&gt;79</th>\n",
       "      <th>unknown</th>\n",
       "      <th>90-94</th>\n",
       "      <th>80-84</th>\n",
       "      <th>&gt;99</th>\n",
       "      <th>85-89</th>\n",
       "      <th>95-99</th>\n",
       "      <th>total-pop-corrected</th>\n",
       "    </tr>\n",
       "  </thead>\n",
       "  <tbody>\n",
       "    <tr>\n",
       "      <th>79</th>\n",
       "      <td>2019</td>\n",
       "      <td>men</td>\n",
       "      <td>62036028.0</td>\n",
       "      <td>2451534.0</td>\n",
       "      <td>2703139.0</td>\n",
       "      <td>2805669.0</td>\n",
       "      <td>3012009.0</td>\n",
       "      <td>3294145.0</td>\n",
       "      <td>3332499.0</td>\n",
       "      <td>3562668.0</td>\n",
       "      <td>...</td>\n",
       "      <td>4135964.0</td>\n",
       "      <td>3190582.0</td>\n",
       "      <td>NaN</td>\n",
       "      <td>18.0</td>\n",
       "      <td>462823.0</td>\n",
       "      <td>2169304.0</td>\n",
       "      <td>8623.0</td>\n",
       "      <td>1246148.0</td>\n",
       "      <td>86004.0</td>\n",
       "      <td>NaN</td>\n",
       "    </tr>\n",
       "    <tr>\n",
       "      <th>80</th>\n",
       "      <td>2019</td>\n",
       "      <td>women</td>\n",
       "      <td>65102005.0</td>\n",
       "      <td>2331996.0</td>\n",
       "      <td>2567979.0</td>\n",
       "      <td>2667945.0</td>\n",
       "      <td>2865038.0</td>\n",
       "      <td>3116004.0</td>\n",
       "      <td>3133721.0</td>\n",
       "      <td>3387856.0</td>\n",
       "      <td>...</td>\n",
       "      <td>4624192.0</td>\n",
       "      <td>3961097.0</td>\n",
       "      <td>NaN</td>\n",
       "      <td>46.0</td>\n",
       "      <td>1243823.0</td>\n",
       "      <td>3092116.0</td>\n",
       "      <td>63336.0</td>\n",
       "      <td>2296585.0</td>\n",
       "      <td>393936.0</td>\n",
       "      <td>NaN</td>\n",
       "    </tr>\n",
       "    <tr>\n",
       "      <th>81</th>\n",
       "      <td>2020</td>\n",
       "      <td>total</td>\n",
       "      <td>126654244.0</td>\n",
       "      <td>4621309.0</td>\n",
       "      <td>5211705.0</td>\n",
       "      <td>5486117.0</td>\n",
       "      <td>5718763.0</td>\n",
       "      <td>6378448.0</td>\n",
       "      <td>6444436.0</td>\n",
       "      <td>6776236.0</td>\n",
       "      <td>...</td>\n",
       "      <td>9337199.0</td>\n",
       "      <td>6890236.0</td>\n",
       "      <td>NaN</td>\n",
       "      <td>58.0</td>\n",
       "      <td>1782093.0</td>\n",
       "      <td>5356401.0</td>\n",
       "      <td>80637.0</td>\n",
       "      <td>3702141.0</td>\n",
       "      <td>521292.0</td>\n",
       "      <td>NaN</td>\n",
       "    </tr>\n",
       "    <tr>\n",
       "      <th>82</th>\n",
       "      <td>2020</td>\n",
       "      <td>men</td>\n",
       "      <td>61797907.0</td>\n",
       "      <td>2368294.0</td>\n",
       "      <td>2671006.0</td>\n",
       "      <td>2813693.0</td>\n",
       "      <td>2930647.0</td>\n",
       "      <td>3279022.0</td>\n",
       "      <td>3322243.0</td>\n",
       "      <td>3477071.0</td>\n",
       "      <td>...</td>\n",
       "      <td>4415966.0</td>\n",
       "      <td>3073178.0</td>\n",
       "      <td>NaN</td>\n",
       "      <td>15.0</td>\n",
       "      <td>491646.0</td>\n",
       "      <td>2222338.0</td>\n",
       "      <td>9588.0</td>\n",
       "      <td>1318085.0</td>\n",
       "      <td>97017.0</td>\n",
       "      <td>NaN</td>\n",
       "    </tr>\n",
       "    <tr>\n",
       "      <th>83</th>\n",
       "      <td>2020</td>\n",
       "      <td>women</td>\n",
       "      <td>64856337.0</td>\n",
       "      <td>2253015.0</td>\n",
       "      <td>2540699.0</td>\n",
       "      <td>2672424.0</td>\n",
       "      <td>2788116.0</td>\n",
       "      <td>3099426.0</td>\n",
       "      <td>3122193.0</td>\n",
       "      <td>3299165.0</td>\n",
       "      <td>...</td>\n",
       "      <td>4921233.0</td>\n",
       "      <td>3817058.0</td>\n",
       "      <td>NaN</td>\n",
       "      <td>43.0</td>\n",
       "      <td>1290447.0</td>\n",
       "      <td>3134063.0</td>\n",
       "      <td>71049.0</td>\n",
       "      <td>2384056.0</td>\n",
       "      <td>424275.0</td>\n",
       "      <td>NaN</td>\n",
       "    </tr>\n",
       "  </tbody>\n",
       "</table>\n",
       "<p>5 rows × 27 columns</p>\n",
       "</div>"
      ],
      "text/plain": [
       "    year gender    total-pop        0-4        5-9      10-14      15-19  \\\n",
       "79  2019    men   62036028.0  2451534.0  2703139.0  2805669.0  3012009.0   \n",
       "80  2019  women   65102005.0  2331996.0  2567979.0  2667945.0  2865038.0   \n",
       "81  2020  total  126654244.0  4621309.0  5211705.0  5486117.0  5718763.0   \n",
       "82  2020    men   61797907.0  2368294.0  2671006.0  2813693.0  2930647.0   \n",
       "83  2020  women   64856337.0  2253015.0  2540699.0  2672424.0  2788116.0   \n",
       "\n",
       "        20-24      25-29      30-34  ...      70-74      75-79  >79  unknown  \\\n",
       "79  3294145.0  3332499.0  3562668.0  ...  4135964.0  3190582.0  NaN     18.0   \n",
       "80  3116004.0  3133721.0  3387856.0  ...  4624192.0  3961097.0  NaN     46.0   \n",
       "81  6378448.0  6444436.0  6776236.0  ...  9337199.0  6890236.0  NaN     58.0   \n",
       "82  3279022.0  3322243.0  3477071.0  ...  4415966.0  3073178.0  NaN     15.0   \n",
       "83  3099426.0  3122193.0  3299165.0  ...  4921233.0  3817058.0  NaN     43.0   \n",
       "\n",
       "        90-94      80-84      >99      85-89     95-99  total-pop-corrected  \n",
       "79   462823.0  2169304.0   8623.0  1246148.0   86004.0                  NaN  \n",
       "80  1243823.0  3092116.0  63336.0  2296585.0  393936.0                  NaN  \n",
       "81  1782093.0  5356401.0  80637.0  3702141.0  521292.0                  NaN  \n",
       "82   491646.0  2222338.0   9588.0  1318085.0   97017.0                  NaN  \n",
       "83  1290447.0  3134063.0  71049.0  2384056.0  424275.0                  NaN  \n",
       "\n",
       "[5 rows x 27 columns]"
      ]
     },
     "execution_count": 8,
     "metadata": {},
     "output_type": "execute_result"
    }
   ],
   "source": [
    "jage_df.tail()"
   ]
  },
  {
   "cell_type": "markdown",
   "metadata": {},
   "source": [
    "# Matplotlib Plots"
   ]
  },
  {
   "cell_type": "code",
   "execution_count": 9,
   "metadata": {},
   "outputs": [],
   "source": [
    "import matplotlib.pyplot as plt\n",
    "try:\n",
    "    ## Load my helper plotting module if it is available\n",
    "    from samplot.utils import init_plotting\n",
    "except ImportError():\n",
    "    def init_plotting(**_): return plt.subplots()"
   ]
  },
  {
   "cell_type": "markdown",
   "metadata": {},
   "source": [
    "## Total Population of Japan"
   ]
  },
  {
   "cell_type": "code",
   "execution_count": 10,
   "metadata": {},
   "outputs": [
    {
     "data": {
      "image/png": "[encoded data removed]",
      "text/plain": [
       "<Figure size 720x360 with 1 Axes>"
      ]
     },
     "metadata": {},
     "output_type": "display_data"
    }
   ],
   "source": [
    "fig, ax = init_plotting(style='nyt', figsize=(10,5))\n",
    "title_string = r\"Population of Japan\"\n",
    "subtitle_string = r\"(Million people)\"\n",
    "ax.set_title(subtitle_string, x=0., y=1.0, fontsize=14,ha='left',va='bottom')\n",
    "fig.suptitle(title_string, x=0,y=1.15, fontsize=18,ha='left',va='bottom', transform=ax.transAxes)\n",
    "ax.set_xlim(min(jpop_df.year)-.5,max(jpop_df.year)+.5)\n",
    "ax.plot(jpop_df.year,jpop_df['total-pop']/10**6 )\n",
    "#ax.scatter(jpop_df.year,jpop_df['total-pop-corrected']/10**6,color='red', marker='x')\n",
    "for suffix in output_filetypes:\n",
    "    fig.savefig(PLOT_FOLDER+'total_pop.'+suffix, transparent=True)"
   ]
  },
  {
   "cell_type": "markdown",
   "metadata": {},
   "source": [
    "## Gender Ratio ###"
   ]
  },
  {
   "cell_type": "code",
   "execution_count": 11,
   "metadata": {},
   "outputs": [
    {
     "data": {
      "image/png": "[encoded data removed]",
      "text/plain": [
       "<Figure size 720x360 with 1 Axes>"
      ]
     },
     "metadata": {},
     "output_type": "display_data"
    }
   ],
   "source": [
    "fig, ax = init_plotting(style='nyt', figsize=(10,5))\n",
    "title_string = r\"Gender Ratio\"\n",
    "subtitle_string = r\"Men / Women\"\n",
    "ax.set_title(subtitle_string, x=0., y=1.0, fontsize=14,ha='left',va='bottom')\n",
    "fig.suptitle(title_string, x=0,y=1.15, fontsize=18,ha='left',va='bottom', transform=ax.transAxes)\n",
    "ax.set_xlim(min(jpop_df.year)-.5,max(jpop_df.year)+.5)\n",
    "ax.plot(jpop_df.year,jpop_df['men']/jpop_df['women'] )\n",
    "for suffix in output_filetypes:\n",
    "    fig.savefig(PLOT_FOLDER+'gender_ratio.'+suffix, transparent=True)"
   ]
  },
  {
   "cell_type": "markdown",
   "metadata": {},
   "source": [
    "## Household Size "
   ]
  },
  {
   "cell_type": "code",
   "execution_count": 12,
   "metadata": {},
   "outputs": [
    {
     "data": {
      "image/png": "[encoded data removed]",
      "text/plain": [
       "<Figure size 720x360 with 1 Axes>"
      ]
     },
     "metadata": {},
     "output_type": "display_data"
    }
   ],
   "source": [
    "fig, ax = init_plotting(style='nyt', figsize=(10,5))\n",
    "title_string = r\"Average household size\"\n",
    "subtitle_string = r\"Total population / Number of households\"\n",
    "ax.set_title(subtitle_string, x=0., y=1.0, fontsize=14,ha='left',va='bottom')\n",
    "fig.suptitle(title_string, x=0,y=1.15, fontsize=18,ha='left',va='bottom', transform=ax.transAxes)\n",
    "ax.set_xlim(min(jpop_df.year)-.5,max(jpop_df.year)+.5)\n",
    "ax.plot(jpop_df.year,jpop_df['total-pop']/jpop_df['households'] )\n",
    "for suffix in output_filetypes:\n",
    "    fig.savefig(PLOT_FOLDER+'average_household.'+suffix, transparent=True)"
   ]
  },
  {
   "cell_type": "markdown",
   "metadata": {},
   "source": [
    "## Rates ###"
   ]
  },
  {
   "cell_type": "code",
   "execution_count": 13,
   "metadata": {},
   "outputs": [
    {
     "data": {
      "image/png": "[encoded data removed]",
      "text/plain": [
       "<Figure size 720x360 with 1 Axes>"
      ]
     },
     "metadata": {},
     "output_type": "display_data"
    }
   ],
   "source": [
    "fig, ax = init_plotting(style='nyt', figsize=(10,5))\n",
    "title_string = r\"Annual Rate of Population Change\"\n",
    "#subtitle_string = r\"Total, Natural, Migration, Other\"\n",
    "#ax.set_title(subtitle_string, x=0., y=1.0, fontsize=14,ha='left',va='bottom')\n",
    "ax.axhline(0,ls='--',color='black', alpha=.7)\n",
    "fig.suptitle(title_string, x=0,y=1.05, fontsize=18,ha='left',va='bottom', transform=ax.transAxes)\n",
    "ax.plot(jpop_df.year[1:],(jpop_df['total-pop'].values[1:]-jpop_df['total-pop'].values[:-1])/jpop_df['total-pop'].values[1:], label='Total')\n",
    "ax.plot(jpop_df.year,(jpop_df['born']-jpop_df['died'])/jpop_df['total-pop'], label='Natural')\n",
    "ax.plot(jpop_df.year,(jpop_df['moved-in-international']-jpop_df['moved-out-international'])/jpop_df['total-pop'], label='Migration')\n",
    "ax.plot(jpop_df.year,(jpop_df['other-in']-jpop_df['other-out'])/jpop_df['total-pop'], label='Other')\n",
    "#ax.plot(jpop_df.year,(jpop_df['moved-in-domestic']-jpop_df['moved-out-domestic'])/jpop_df['total-pop'])\n",
    "ax.legend(loc='upper right',ncol=2)\n",
    "for suffix in output_filetypes:\n",
    "    fig.savefig(PLOT_FOLDER+'change_rate_breakdown.'+suffix, transparent=True)"
   ]
  },
  {
   "cell_type": "markdown",
   "metadata": {},
   "source": [
    "## Birth vs Death Rate ###"
   ]
  },
  {
   "cell_type": "code",
   "execution_count": 14,
   "metadata": {},
   "outputs": [
    {
     "data": {
      "image/png": "[encoded data removed]",
      "text/plain": [
       "<Figure size 720x360 with 1 Axes>"
      ]
     },
     "metadata": {},
     "output_type": "display_data"
    }
   ],
   "source": [
    "fig, ax = init_plotting(style='nyt', figsize=(10,5))\n",
    "title_string = r\"Birth and Death Rate\"\n",
    "subtitle_string = r\"Per Capita\"\n",
    "ax.set_title(subtitle_string, x=0., y=1.0, fontsize=14,ha='left',va='bottom')\n",
    "fig.suptitle(title_string, x=0,y=1.15, fontsize=18,ha='left',va='bottom', transform=ax.transAxes)\n",
    "ax.plot(jpop_df.year,(jpop_df['born']/jpop_df['total-pop']))\n",
    "ax.plot(jpop_df.year,(jpop_df['died']/jpop_df['total-pop']))\n",
    "for suffix in output_filetypes:\n",
    "    fig.savefig(PLOT_FOLDER+'birth_vs_death_rate.'+suffix, transparent=True)"
   ]
  },
  {
   "cell_type": "markdown",
   "metadata": {},
   "source": [
    "## Birth minus Death Rate ###"
   ]
  },
  {
   "cell_type": "code",
   "execution_count": 15,
   "metadata": {},
   "outputs": [
    {
     "data": {
      "image/png": "[encoded data removed]",
      "text/plain": [
       "<Figure size 720x360 with 1 Axes>"
      ]
     },
     "metadata": {},
     "output_type": "display_data"
    }
   ],
   "source": [
    "fig, ax = init_plotting(style='nyt', figsize=(10,5))\n",
    "title_string = r\"Birth Minus Death Rate\"\n",
    "subtitle_string = r\"Per Capita\"\n",
    "ax.set_title(subtitle_string, x=0., y=1.0, fontsize=14,ha='left',va='bottom')\n",
    "ax.axhline(0, ls='--', color='black', alpha =.7)\n",
    "fig.suptitle(title_string, x=0,y=1.15, fontsize=18,ha='left',va='bottom', transform=ax.transAxes)\n",
    "ax.plot(jpop_df.year,(jpop_df['born']-jpop_df['died'])/jpop_df['total-pop'])\n",
    "ax.plot(jpop_df.year,(jpop_df['born-minus-died-rate']/100),ls='--')\n",
    "ax.plot(jpop_df.year[1:],(jpop_df['born'][1:].values-jpop_df['died'][1:].values)/jpop_df['total-pop'][0:-1].values, color='red')\n",
    "for suffix in output_filetypes:\n",
    "    fig.savefig(PLOT_FOLDER+'birth_minus_death_rate.'+suffix, transparent=True)"
   ]
  },
  {
   "cell_type": "markdown",
   "metadata": {},
   "source": [
    "## Age distribution "
   ]
  },
  {
   "cell_type": "code",
   "execution_count": 70,
   "metadata": {},
   "outputs": [],
   "source": [
    "import seaborn as sns\n",
    "import numpy as np"
   ]
  },
  {
   "cell_type": "code",
   "execution_count": 85,
   "metadata": {},
   "outputs": [],
   "source": [
    "ageranges = np.array(subdf.columns.values)"
   ]
  },
  {
   "cell_type": "code",
   "execution_count": 98,
   "metadata": {},
   "outputs": [],
   "source": [
    "sortinds = np.argsort([int(agerange.split('-')[0].split('>')[-1]) for agerange in ageranges])"
   ]
  },
  {
   "cell_type": "code",
   "execution_count": 104,
   "metadata": {},
   "outputs": [
    {
     "ename": "TypeError",
     "evalue": "only integer scalar arrays can be converted to a scalar index",
     "output_type": "error",
     "traceback": [
      "\u001b[0;31m---------------------------------------------------------------------------\u001b[0m",
      "\u001b[0;31mTypeError\u001b[0m                                 Traceback (most recent call last)",
      "Input \u001b[0;32mIn [104]\u001b[0m, in \u001b[0;36m<cell line: 1>\u001b[0;34m()\u001b[0m\n\u001b[0;32m----> 1\u001b[0m \u001b[43mageranges\u001b[49m\u001b[43m[\u001b[49m\u001b[43msortinds\u001b[49m\u001b[43m]\u001b[49m\n",
      "\u001b[0;31mTypeError\u001b[0m: only integer scalar arrays can be converted to a scalar index"
     ]
    }
   ],
   "source": [
    "ageranges"
   ]
  },
  {
   "cell_type": "code",
   "execution_count": 109,
   "metadata": {},
   "outputs": [
    {
     "data": {
      "text/plain": [
       "(-6000000.0, 6000000.0)"
      ]
     },
     "execution_count": 109,
     "metadata": {},
     "output_type": "execute_result"
    },
    {
     "data": {
      "image/png": "[encoded data removed]",
      "text/plain": [
       "<Figure size 720x360 with 1 Axes>"
      ]
     },
     "metadata": {},
     "output_type": "display_data"
    }
   ],
   "source": [
    "year = 1995\n",
    "subdf = jage_df.loc[jage_df['year'] ==year].drop(['year','unknown','total-pop','total-pop-adjusted'], axis=1,errors='ignore')\n",
    "subdf = subdf[subdf.columns[~subdf.isnull().all()]]\n",
    "subdf = subdf.set_index('gender')\n",
    "ageranges = np.array(subdf.columns.values)\n",
    "sortinds = np.argsort([int(agerange.split('-')[0].split('>')[-1]) for agerange in ageranges])[::-1]\n",
    "ageranges = np.array([r'$'+agerange + '$' for agerange in ageranges])\n",
    "fig, ax = init_plotting(style='nyt', figsize=(10,5))\n",
    "sns.barplot(x=subdf.loc['women'].values, y=ageranges, order=ageranges[sortinds], color='pink',ax=ax)\n",
    "sns.barplot(x=-subdf.loc['men'].values, y=ageranges, order=ageranges[sortinds],color='lightblue',ax=ax)\n",
    "ax.set_xlim([-6*10**6, 6*10**6])"
   ]
  },
  {
   "cell_type": "code",
   "execution_count": 110,
   "metadata": {},
   "outputs": [
    {
     "data": {
      "text/plain": [
       "(-6000000.0, 6000000.0)"
      ]
     },
     "execution_count": 110,
     "metadata": {},
     "output_type": "execute_result"
    },
    {
     "data": {
      "image/png": "[encoded data removed]",
      "text/plain": [
       "<Figure size 720x360 with 1 Axes>"
      ]
     },
     "metadata": {},
     "output_type": "display_data"
    }
   ],
   "source": [
    "year = 2020\n",
    "subdf = jage_df.loc[jage_df['year'] ==year].drop(['year','unknown','total-pop','total-pop-adjusted'], axis=1,errors='ignore')\n",
    "subdf = subdf[subdf.columns[~subdf.isnull().all()]]\n",
    "subdf = subdf.set_index('gender')\n",
    "ageranges = np.array(subdf.columns.values)\n",
    "sortinds = np.argsort([int(agerange.split('-')[0].split('>')[-1]) for agerange in ageranges])[::-1]\n",
    "ageranges = np.array([r'$'+agerange + '$' for agerange in ageranges])\n",
    "fig, ax = init_plotting(style='nyt', figsize=(10,5))\n",
    "sns.barplot(x=subdf.loc['women'].values, y=ageranges, order=ageranges[sortinds], color='pink',ax=ax)\n",
    "sns.barplot(x=-subdf.loc['men'].values, y=ageranges, order=ageranges[sortinds],color='lightblue',ax=ax)\n",
    "ax.set_xlim([-6*10**6, 6*10**6])"
   ]
  },
  {
   "cell_type": "code",
   "execution_count": 111,
   "metadata": {},
   "outputs": [],
   "source": [
    "plt.close('all')"
   ]
  },
  {
   "cell_type": "code",
   "execution_count": null,
   "metadata": {},
   "outputs": [],
   "source": []
  }
 ],
 "metadata": {
  "kernelspec": {
   "display_name": "Python 3 (ipykernel)",
   "language": "python",
   "name": "python3"
  },
  "language_info": {
   "codemirror_mode": {
    "name": "ipython",
    "version": 3
   },
   "file_extension": ".py",
   "mimetype": "text/x-python",
   "name": "python",
   "nbconvert_exporter": "python",
   "pygments_lexer": "ipython3",
   "version": "3.9.12"
  }
 },
 "nbformat": 4,
 "nbformat_minor": 2
}
